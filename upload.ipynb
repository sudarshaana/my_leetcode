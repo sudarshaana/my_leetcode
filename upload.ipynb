{
 "cells": [
  {
   "cell_type": "code",
   "execution_count": 1,
   "metadata": {},
   "outputs": [
    {
     "data": {
      "text/plain": [
       "<generator object walk at 0x1123a63c0>"
      ]
     },
     "execution_count": 1,
     "metadata": {},
     "output_type": "execute_result"
    }
   ],
   "source": [
    "import os\n",
    "os.walk(\"\")"
   ]
  },
  {
   "cell_type": "code",
   "execution_count": null,
   "metadata": {},
   "outputs": [],
   "source": []
  },
  {
   "cell_type": "code",
   "execution_count": null,
   "metadata": {},
   "outputs": [],
   "source": []
  },
  {
   "cell_type": "code",
   "execution_count": 1,
   "metadata": {},
   "outputs": [
    {
     "name": "stdout",
     "output_type": "stream",
     "text": [
      "187\n",
      "7\n",
      "Adding... minimum-cost-to-connect-sticks\n",
      "200\n",
      "minimum-cost-to-connect-sticks -- added!\n",
      "Adding... 1464-maximum-product-of-two-elements-in-an-array\n",
      "200\n",
      "1464-maximum-product-of-two-elements-in-an-array -- added!\n",
      "Adding... meeting-rooms-ii\n",
      "200\n",
      "meeting-rooms-ii -- added!\n",
      "Adding... k-closest-points-to-origin\n",
      "200\n",
      "k-closest-points-to-origin -- added!\n",
      "Adding... 973-k-closest-points-to-origin\n",
      "200\n",
      "973-k-closest-points-to-origin -- added!\n",
      "Adding... 1642-furthest-building-you-can-reach\n",
      "200\n",
      "1642-furthest-building-you-can-reach -- added!\n",
      "Adding... 252-meeting-rooms\n",
      "200\n",
      "252-meeting-rooms -- added!\n"
     ]
    }
   ],
   "source": [
    "import requests\n",
    "import json\n",
    "import os\n",
    "\n",
    "\n",
    "problems_list = next(os.walk('.'))[1]\n",
    "problems_list\n",
    "\n",
    "\n",
    "exists_problems_list = []\n",
    "def readFile():\n",
    "    with open(\"already_exists.txt\", \"r\") as txt_file:\n",
    "        return txt_file.readlines()\n",
    "\n",
    "exists_problems_list = set( x.replace(\"\\n\", '') for x in readFile())\n",
    "exists_problems_list \n",
    "\n",
    "print(len(problems_list))\n",
    "problems_list = set(problems_list)\n",
    "to_add = list(problems_list - exists_problems_list)\n",
    "print(len(to_add))\n",
    "\n",
    "\n",
    "def add_problem_to_server(path):\n",
    "    problem = None\n",
    "    code = None\n",
    "    \n",
    "    for root, dirs, files in os.walk(path):\n",
    "    \tfor file in files:\n",
    "            if \"README.md\" in file:\n",
    "             problem = os.path.join(root,file)\n",
    "             \n",
    "            if \".py\" in file:\n",
    "                code = os.path.join(root,file)\n",
    "    \t\t\t#print(code)\n",
    "    \n",
    "        \n",
    "    if problem and code:\n",
    "        \n",
    "        file = open(code,mode='r')\n",
    "        code_str = file.read() \n",
    "        # close the file\n",
    "        file.close()\n",
    "        #print(code_str)\n",
    "    \n",
    "        file = open(problem, mode='r')\n",
    "        problem_str = file.read() \n",
    "        # close the file\n",
    "        file.close()\n",
    "        #print(problem_str)\n",
    "        \n",
    "        myobj = {'problem': problem_str, \"content\": code_str, \"slug\": path, \"token\": \"sacasncascascaskj787w8d3yg321!*W@(WEHYUFGWUY\"}    \n",
    "        \n",
    "        #print(myobj)    \n",
    "        #response = requests.get(\"https://smondal.me/api/v1/add_blogpost/\")\n",
    "        response = requests.post(\"https://smondal.me/api/v1/add_blogpost/\", data=myobj)\n",
    "        print(response.status_code)\n",
    "        \n",
    "        if response.status_code == 200:\n",
    "            with open(\"already_exists.txt\", \"a+\") as f:\n",
    "                f.write(path+\"\\n\")\n",
    "                \n",
    "            print(\"{} -- added!\".format(path))\n",
    "            \n",
    "            \n",
    "    else:\n",
    "        print(\"Code or Problem not found! {}\".format(path))\n",
    "        with open(\"already_exists.txt\", \"a+\") as f:\n",
    "                f.write(path+\"\\n\")\n",
    "                \n",
    "\n",
    "\n",
    "for path in to_add:\n",
    "    if path == \"\":\n",
    "        continue\n",
    "    r = requests.get(\"https://smondal.me/api/v1/search_problem/\"+ path +\"/sacasncascascaskj787w8d3yg321!*W@(WEHYUFGWUY/\")\n",
    "    \n",
    "    if r:\n",
    "        if r.status_code == 200: # okay\n",
    "            \n",
    "            data = json.loads(r.text)\n",
    "            \n",
    "            if data[\"status\"] == False and data[\"message\"] == 'exists':\n",
    "                with open(\"already_exists.txt\", \"a+\") as f:\n",
    "                    f.write(path+\"\\n\")\n",
    "            \n",
    "            elif data[\"status\"] == True:\n",
    "                 # time to add\n",
    "                 \n",
    "                 print(\"Adding... {}\".format(path))\n",
    "                 add_problem_to_server(path)\n",
    "                 \n",
    "            else:\n",
    "                print(\"Something went wrong! {} -  {}\".format(path, r.content) )\n",
    "            "
   ]
  },
  {
   "cell_type": "code",
   "execution_count": 84,
   "metadata": {},
   "outputs": [],
   "source": [
    "# path =l[3]\n",
    "# #we shall store all the file names in this list\n",
    "# problem = None\n",
    "# code = None\n",
    "\n",
    "\n",
    "# for root, dirs, files in os.walk(path):\n",
    "# \tfor file in files:\n",
    "# \t\tif \"README.md\" in file:\n",
    "# \t\t\tproblem = os.path.join(root,file)\n",
    "# \t\t\tprint(problem)\n",
    "   \n",
    "# \t\tif \".py\" in file:\n",
    "# \t\t\tcode = os.path.join(root,file)\n",
    "# \t\t\tprint(code)\n",
    "   \n",
    "      \n",
    "# if problem and code:\n",
    "\n",
    "# \tfile = open(code,mode='r')\n",
    "# \tcode_str = file.read() \n",
    "# \t# close the file\n",
    "# \tfile.close()\n",
    "# \tprint(code_str)\n",
    " \n",
    "# \tfile = open(problem, mode='r')\n",
    "# \tproblem_str = file.read() \n",
    "# \t# close the file\n",
    "# \tfile.close()\n",
    "# \tprint(problem_str)\n",
    " \n",
    " "
   ]
  },
  {
   "cell_type": "code",
   "execution_count": null,
   "metadata": {},
   "outputs": [],
   "source": []
  }
 ],
 "metadata": {
  "kernelspec": {
   "display_name": "Python 3.8.9 64-bit",
   "language": "python",
   "name": "python3"
  },
  "language_info": {
   "codemirror_mode": {
    "name": "ipython",
    "version": 3
   },
   "file_extension": ".py",
   "mimetype": "text/x-python",
   "name": "python",
   "nbconvert_exporter": "python",
   "pygments_lexer": "ipython3",
   "version": "3.8.9"
  },
  "orig_nbformat": 4,
  "vscode": {
   "interpreter": {
    "hash": "31f2aee4e71d21fbe5cf8b01ff0e069b9275f58929596ceb00d14d90e3e16cd6"
   }
  }
 },
 "nbformat": 4,
 "nbformat_minor": 2
}
